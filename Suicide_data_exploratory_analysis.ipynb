{
 "cells": [
  {
   "cell_type": "code",
   "execution_count": 80,
   "metadata": {},
   "outputs": [],
   "source": [
    "import os \n",
    "import pandas as pd\n",
    "import numpy as np\n",
    "DATA_PATH = \"C:\\\\Users\\\\rajee\\\\Kaggle\"\n",
    "IMAGES_PATH = \"C:\\\\Users\\\\rajee\\\\Kaggle\""
   ]
  },
  {
   "cell_type": "code",
   "execution_count": 81,
   "metadata": {},
   "outputs": [],
   "source": [
    "def load_data(data_path = DATA_PATH):\n",
    "    csv = os.path.join(data_path,\"suicide_rates_overview_1985_to_2016.csv\")\n",
    "    return pd.read_csv(csv)\n",
    "\n",
    "def save_fig(fig_id, tight_layout=True, fig_extension=\"png\", resolution=300):\n",
    "    path = os.path.join(IMAGES_PATH, fig_id + \".\" + fig_extension)\n",
    "    print(\"Saving figure\", fig_id)\n",
    "    if tight_layout:\n",
    "        plt.tight_layout()\n",
    "    plt.savefig(path, format=fig_extension, dpi=resolution)"
   ]
  },
  {
   "cell_type": "code",
   "execution_count": 82,
   "metadata": {},
   "outputs": [],
   "source": [
    "sui = load_data();"
   ]
  },
  {
   "cell_type": "code",
   "execution_count": 83,
   "metadata": {},
   "outputs": [
    {
     "data": {
      "text/html": [
       "<div>\n",
       "<style scoped>\n",
       "    .dataframe tbody tr th:only-of-type {\n",
       "        vertical-align: middle;\n",
       "    }\n",
       "\n",
       "    .dataframe tbody tr th {\n",
       "        vertical-align: top;\n",
       "    }\n",
       "\n",
       "    .dataframe thead th {\n",
       "        text-align: right;\n",
       "    }\n",
       "</style>\n",
       "<table border=\"1\" class=\"dataframe\">\n",
       "  <thead>\n",
       "    <tr style=\"text-align: right;\">\n",
       "      <th></th>\n",
       "      <th>country</th>\n",
       "      <th>year</th>\n",
       "      <th>sex</th>\n",
       "      <th>age</th>\n",
       "      <th>suicides_no</th>\n",
       "      <th>population</th>\n",
       "      <th>suicides/100k pop</th>\n",
       "      <th>country-year</th>\n",
       "      <th>HDI for year</th>\n",
       "      <th>gdp_for_year ($)</th>\n",
       "      <th>gdp_per_capita ($)</th>\n",
       "      <th>generation</th>\n",
       "    </tr>\n",
       "  </thead>\n",
       "  <tbody>\n",
       "    <tr>\n",
       "      <th>0</th>\n",
       "      <td>Albania</td>\n",
       "      <td>1987</td>\n",
       "      <td>male</td>\n",
       "      <td>15-24 years</td>\n",
       "      <td>21</td>\n",
       "      <td>312900</td>\n",
       "      <td>6.71</td>\n",
       "      <td>Albania1987</td>\n",
       "      <td>NaN</td>\n",
       "      <td>2,156,624,900</td>\n",
       "      <td>796</td>\n",
       "      <td>Generation X</td>\n",
       "    </tr>\n",
       "    <tr>\n",
       "      <th>1</th>\n",
       "      <td>Albania</td>\n",
       "      <td>1987</td>\n",
       "      <td>male</td>\n",
       "      <td>35-54 years</td>\n",
       "      <td>16</td>\n",
       "      <td>308000</td>\n",
       "      <td>5.19</td>\n",
       "      <td>Albania1987</td>\n",
       "      <td>NaN</td>\n",
       "      <td>2,156,624,900</td>\n",
       "      <td>796</td>\n",
       "      <td>Silent</td>\n",
       "    </tr>\n",
       "    <tr>\n",
       "      <th>2</th>\n",
       "      <td>Albania</td>\n",
       "      <td>1987</td>\n",
       "      <td>female</td>\n",
       "      <td>15-24 years</td>\n",
       "      <td>14</td>\n",
       "      <td>289700</td>\n",
       "      <td>4.83</td>\n",
       "      <td>Albania1987</td>\n",
       "      <td>NaN</td>\n",
       "      <td>2,156,624,900</td>\n",
       "      <td>796</td>\n",
       "      <td>Generation X</td>\n",
       "    </tr>\n",
       "    <tr>\n",
       "      <th>3</th>\n",
       "      <td>Albania</td>\n",
       "      <td>1987</td>\n",
       "      <td>male</td>\n",
       "      <td>75+ years</td>\n",
       "      <td>1</td>\n",
       "      <td>21800</td>\n",
       "      <td>4.59</td>\n",
       "      <td>Albania1987</td>\n",
       "      <td>NaN</td>\n",
       "      <td>2,156,624,900</td>\n",
       "      <td>796</td>\n",
       "      <td>G.I. Generation</td>\n",
       "    </tr>\n",
       "    <tr>\n",
       "      <th>4</th>\n",
       "      <td>Albania</td>\n",
       "      <td>1987</td>\n",
       "      <td>male</td>\n",
       "      <td>25-34 years</td>\n",
       "      <td>9</td>\n",
       "      <td>274300</td>\n",
       "      <td>3.28</td>\n",
       "      <td>Albania1987</td>\n",
       "      <td>NaN</td>\n",
       "      <td>2,156,624,900</td>\n",
       "      <td>796</td>\n",
       "      <td>Boomers</td>\n",
       "    </tr>\n",
       "  </tbody>\n",
       "</table>\n",
       "</div>"
      ],
      "text/plain": [
       "   country  year     sex          age  suicides_no  population  \\\n",
       "0  Albania  1987    male  15-24 years           21      312900   \n",
       "1  Albania  1987    male  35-54 years           16      308000   \n",
       "2  Albania  1987  female  15-24 years           14      289700   \n",
       "3  Albania  1987    male    75+ years            1       21800   \n",
       "4  Albania  1987    male  25-34 years            9      274300   \n",
       "\n",
       "   suicides/100k pop country-year  HDI for year  gdp_for_year ($)   \\\n",
       "0               6.71  Albania1987           NaN      2,156,624,900   \n",
       "1               5.19  Albania1987           NaN      2,156,624,900   \n",
       "2               4.83  Albania1987           NaN      2,156,624,900   \n",
       "3               4.59  Albania1987           NaN      2,156,624,900   \n",
       "4               3.28  Albania1987           NaN      2,156,624,900   \n",
       "\n",
       "   gdp_per_capita ($)       generation  \n",
       "0                 796     Generation X  \n",
       "1                 796           Silent  \n",
       "2                 796     Generation X  \n",
       "3                 796  G.I. Generation  \n",
       "4                 796          Boomers  "
      ]
     },
     "execution_count": 83,
     "metadata": {},
     "output_type": "execute_result"
    }
   ],
   "source": [
    "sui.head()"
   ]
  },
  {
   "cell_type": "code",
   "execution_count": 68,
   "metadata": {},
   "outputs": [
    {
     "data": {
      "text/plain": [
       "(27820, 12)"
      ]
     },
     "execution_count": 68,
     "metadata": {},
     "output_type": "execute_result"
    }
   ],
   "source": [
    "sui.shape"
   ]
  },
  {
   "cell_type": "code",
   "execution_count": 69,
   "metadata": {},
   "outputs": [
    {
     "name": "stdout",
     "output_type": "stream",
     "text": [
      "<class 'pandas.core.frame.DataFrame'>\n",
      "RangeIndex: 27820 entries, 0 to 27819\n",
      "Data columns (total 12 columns):\n",
      "country               27820 non-null object\n",
      "year                  27820 non-null int64\n",
      "sex                   27820 non-null object\n",
      "age                   27820 non-null object\n",
      "suicides_no           27820 non-null int64\n",
      "population            27820 non-null int64\n",
      "suicides/100k pop     27820 non-null float64\n",
      "country-year          27820 non-null object\n",
      "HDI for year          8364 non-null float64\n",
      " gdp_for_year ($)     27820 non-null object\n",
      "gdp_per_capita ($)    27820 non-null int64\n",
      "generation            27820 non-null object\n",
      "dtypes: float64(2), int64(4), object(6)\n",
      "memory usage: 2.5+ MB\n"
     ]
    }
   ],
   "source": [
    "sui.info()"
   ]
  },
  {
   "cell_type": "code",
   "execution_count": 70,
   "metadata": {},
   "outputs": [],
   "source": [
    "## Renaming few of the columns\n",
    "sui.rename(columns={\"suicides/100k pop\":\"suicides_per_100k_pop\",\"HDI for year\":\"HDI_for_year\" },inplace=True)\n",
    "sui.rename(columns={\" gdp_for_year ($)\":\"gdp_for_year_$\",\"gdp_per_capita ($)\":\"gdp_per_capita_$\" },inplace=True)"
   ]
  },
  {
   "cell_type": "code",
   "execution_count": 84,
   "metadata": {},
   "outputs": [
    {
     "data": {
      "text/plain": [
       "country                   0\n",
       "year                      0\n",
       "sex                       0\n",
       "age                       0\n",
       "suicides_no               0\n",
       "population                0\n",
       "suicides/100k pop         0\n",
       "country-year              0\n",
       "HDI for year          19456\n",
       " gdp_for_year ($)         0\n",
       "gdp_per_capita ($)        0\n",
       "generation                0\n",
       "dtype: int64"
      ]
     },
     "execution_count": 84,
     "metadata": {},
     "output_type": "execute_result"
    }
   ],
   "source": [
    "##All are not null columns, therefore there wont be any null values in any of the column for given dataset\n",
    "##Just a precautionary check\n",
    "sui.isnull().sum() ## looks like HDI for year has 19456 null value."
   ]
  },
  {
   "cell_type": "code",
   "execution_count": 77,
   "metadata": {},
   "outputs": [
    {
     "data": {
      "text/plain": [
       "United Arab Emirates      72\n",
       "Nicaragua                 72\n",
       "Saint Kitts and Nevis     36\n",
       "Oman                      36\n",
       "San Marino                36\n",
       "Bosnia and Herzegovina    24\n",
       "Macau                     12\n",
       "Dominica                  12\n",
       "Cabo Verde                12\n",
       "Mongolia                  10\n",
       "Name: country, dtype: int64"
      ]
     },
     "execution_count": 77,
     "metadata": {},
     "output_type": "execute_result"
    }
   ],
   "source": [
    "sui['country'].value_counts().head(10) ## Austria has highest number of Suicides\n",
    "sui['country'].value_counts().tail(10) ## Mongolia has highest number of Suicides"
   ]
  },
  {
   "cell_type": "code",
   "execution_count": 87,
   "metadata": {},
   "outputs": [
    {
     "data": {
      "text/html": [
       "<div>\n",
       "<style scoped>\n",
       "    .dataframe tbody tr th:only-of-type {\n",
       "        vertical-align: middle;\n",
       "    }\n",
       "\n",
       "    .dataframe tbody tr th {\n",
       "        vertical-align: top;\n",
       "    }\n",
       "\n",
       "    .dataframe thead th {\n",
       "        text-align: right;\n",
       "    }\n",
       "</style>\n",
       "<table border=\"1\" class=\"dataframe\">\n",
       "  <thead>\n",
       "    <tr style=\"text-align: right;\">\n",
       "      <th></th>\n",
       "      <th>country</th>\n",
       "      <th>year</th>\n",
       "      <th>sex</th>\n",
       "      <th>age</th>\n",
       "      <th>suicides_no</th>\n",
       "      <th>population</th>\n",
       "      <th>suicides/100k pop</th>\n",
       "      <th>country-year</th>\n",
       "      <th>HDI for year</th>\n",
       "      <th>gdp_for_year ($)</th>\n",
       "      <th>gdp_per_capita ($)</th>\n",
       "      <th>generation</th>\n",
       "    </tr>\n",
       "  </thead>\n",
       "  <tbody>\n",
       "    <tr>\n",
       "      <th>16936</th>\n",
       "      <td>Mongolia</td>\n",
       "      <td>2016</td>\n",
       "      <td>male</td>\n",
       "      <td>25-34 years</td>\n",
       "      <td>127</td>\n",
       "      <td>290660</td>\n",
       "      <td>43.69</td>\n",
       "      <td>Mongolia2016</td>\n",
       "      <td>NaN</td>\n",
       "      <td>11,183,458,131</td>\n",
       "      <td>4145</td>\n",
       "      <td>Millenials</td>\n",
       "    </tr>\n",
       "    <tr>\n",
       "      <th>16937</th>\n",
       "      <td>Mongolia</td>\n",
       "      <td>2016</td>\n",
       "      <td>male</td>\n",
       "      <td>35-54 years</td>\n",
       "      <td>127</td>\n",
       "      <td>375631</td>\n",
       "      <td>33.81</td>\n",
       "      <td>Mongolia2016</td>\n",
       "      <td>NaN</td>\n",
       "      <td>11,183,458,131</td>\n",
       "      <td>4145</td>\n",
       "      <td>Generation X</td>\n",
       "    </tr>\n",
       "    <tr>\n",
       "      <th>16938</th>\n",
       "      <td>Mongolia</td>\n",
       "      <td>2016</td>\n",
       "      <td>male</td>\n",
       "      <td>15-24 years</td>\n",
       "      <td>85</td>\n",
       "      <td>252851</td>\n",
       "      <td>33.62</td>\n",
       "      <td>Mongolia2016</td>\n",
       "      <td>NaN</td>\n",
       "      <td>11,183,458,131</td>\n",
       "      <td>4145</td>\n",
       "      <td>Millenials</td>\n",
       "    </tr>\n",
       "    <tr>\n",
       "      <th>16939</th>\n",
       "      <td>Mongolia</td>\n",
       "      <td>2016</td>\n",
       "      <td>male</td>\n",
       "      <td>55-74 years</td>\n",
       "      <td>29</td>\n",
       "      <td>113527</td>\n",
       "      <td>25.54</td>\n",
       "      <td>Mongolia2016</td>\n",
       "      <td>NaN</td>\n",
       "      <td>11,183,458,131</td>\n",
       "      <td>4145</td>\n",
       "      <td>Boomers</td>\n",
       "    </tr>\n",
       "    <tr>\n",
       "      <th>16940</th>\n",
       "      <td>Mongolia</td>\n",
       "      <td>2016</td>\n",
       "      <td>male</td>\n",
       "      <td>75+ years</td>\n",
       "      <td>3</td>\n",
       "      <td>15349</td>\n",
       "      <td>19.55</td>\n",
       "      <td>Mongolia2016</td>\n",
       "      <td>NaN</td>\n",
       "      <td>11,183,458,131</td>\n",
       "      <td>4145</td>\n",
       "      <td>Silent</td>\n",
       "    </tr>\n",
       "    <tr>\n",
       "      <th>16941</th>\n",
       "      <td>Mongolia</td>\n",
       "      <td>2016</td>\n",
       "      <td>female</td>\n",
       "      <td>75+ years</td>\n",
       "      <td>3</td>\n",
       "      <td>26305</td>\n",
       "      <td>11.40</td>\n",
       "      <td>Mongolia2016</td>\n",
       "      <td>NaN</td>\n",
       "      <td>11,183,458,131</td>\n",
       "      <td>4145</td>\n",
       "      <td>Silent</td>\n",
       "    </tr>\n",
       "    <tr>\n",
       "      <th>16942</th>\n",
       "      <td>Mongolia</td>\n",
       "      <td>2016</td>\n",
       "      <td>female</td>\n",
       "      <td>15-24 years</td>\n",
       "      <td>18</td>\n",
       "      <td>246805</td>\n",
       "      <td>7.29</td>\n",
       "      <td>Mongolia2016</td>\n",
       "      <td>NaN</td>\n",
       "      <td>11,183,458,131</td>\n",
       "      <td>4145</td>\n",
       "      <td>Millenials</td>\n",
       "    </tr>\n",
       "    <tr>\n",
       "      <th>16943</th>\n",
       "      <td>Mongolia</td>\n",
       "      <td>2016</td>\n",
       "      <td>female</td>\n",
       "      <td>25-34 years</td>\n",
       "      <td>15</td>\n",
       "      <td>292237</td>\n",
       "      <td>5.13</td>\n",
       "      <td>Mongolia2016</td>\n",
       "      <td>NaN</td>\n",
       "      <td>11,183,458,131</td>\n",
       "      <td>4145</td>\n",
       "      <td>Millenials</td>\n",
       "    </tr>\n",
       "    <tr>\n",
       "      <th>16944</th>\n",
       "      <td>Mongolia</td>\n",
       "      <td>2016</td>\n",
       "      <td>female</td>\n",
       "      <td>35-54 years</td>\n",
       "      <td>15</td>\n",
       "      <td>406028</td>\n",
       "      <td>3.69</td>\n",
       "      <td>Mongolia2016</td>\n",
       "      <td>NaN</td>\n",
       "      <td>11,183,458,131</td>\n",
       "      <td>4145</td>\n",
       "      <td>Generation X</td>\n",
       "    </tr>\n",
       "    <tr>\n",
       "      <th>16945</th>\n",
       "      <td>Mongolia</td>\n",
       "      <td>2016</td>\n",
       "      <td>female</td>\n",
       "      <td>55-74 years</td>\n",
       "      <td>1</td>\n",
       "      <td>148196</td>\n",
       "      <td>0.67</td>\n",
       "      <td>Mongolia2016</td>\n",
       "      <td>NaN</td>\n",
       "      <td>11,183,458,131</td>\n",
       "      <td>4145</td>\n",
       "      <td>Boomers</td>\n",
       "    </tr>\n",
       "  </tbody>\n",
       "</table>\n",
       "</div>"
      ],
      "text/plain": [
       "        country  year     sex          age  suicides_no  population  \\\n",
       "16936  Mongolia  2016    male  25-34 years          127      290660   \n",
       "16937  Mongolia  2016    male  35-54 years          127      375631   \n",
       "16938  Mongolia  2016    male  15-24 years           85      252851   \n",
       "16939  Mongolia  2016    male  55-74 years           29      113527   \n",
       "16940  Mongolia  2016    male    75+ years            3       15349   \n",
       "16941  Mongolia  2016  female    75+ years            3       26305   \n",
       "16942  Mongolia  2016  female  15-24 years           18      246805   \n",
       "16943  Mongolia  2016  female  25-34 years           15      292237   \n",
       "16944  Mongolia  2016  female  35-54 years           15      406028   \n",
       "16945  Mongolia  2016  female  55-74 years            1      148196   \n",
       "\n",
       "       suicides/100k pop  country-year  HDI for year  gdp_for_year ($)   \\\n",
       "16936              43.69  Mongolia2016           NaN     11,183,458,131   \n",
       "16937              33.81  Mongolia2016           NaN     11,183,458,131   \n",
       "16938              33.62  Mongolia2016           NaN     11,183,458,131   \n",
       "16939              25.54  Mongolia2016           NaN     11,183,458,131   \n",
       "16940              19.55  Mongolia2016           NaN     11,183,458,131   \n",
       "16941              11.40  Mongolia2016           NaN     11,183,458,131   \n",
       "16942               7.29  Mongolia2016           NaN     11,183,458,131   \n",
       "16943               5.13  Mongolia2016           NaN     11,183,458,131   \n",
       "16944               3.69  Mongolia2016           NaN     11,183,458,131   \n",
       "16945               0.67  Mongolia2016           NaN     11,183,458,131   \n",
       "\n",
       "       gdp_per_capita ($)    generation  \n",
       "16936                4145    Millenials  \n",
       "16937                4145  Generation X  \n",
       "16938                4145    Millenials  \n",
       "16939                4145       Boomers  \n",
       "16940                4145        Silent  \n",
       "16941                4145        Silent  \n",
       "16942                4145    Millenials  \n",
       "16943                4145    Millenials  \n",
       "16944                4145  Generation X  \n",
       "16945                4145       Boomers  "
      ]
     },
     "execution_count": 87,
     "metadata": {},
     "output_type": "execute_result"
    }
   ],
   "source": [
    "sui.loc[sui['country'] == 'Mongolia',] ## Mongolia has lowest number of Suicide count"
   ]
  },
  {
   "cell_type": "code",
   "execution_count": 99,
   "metadata": {},
   "outputs": [
    {
     "data": {
      "text/plain": [
       "country              year\n",
       "Albania              1987      73\n",
       "                     1988      63\n",
       "                     1989      68\n",
       "                     1992      47\n",
       "                     1993      73\n",
       "                     1994      50\n",
       "                     1995      88\n",
       "                     1996      89\n",
       "                     1997     170\n",
       "                     1998     154\n",
       "                     1999     139\n",
       "                     2000      54\n",
       "                     2001     119\n",
       "                     2002     133\n",
       "                     2003     124\n",
       "                     2004     146\n",
       "                     2005       0\n",
       "                     2006       0\n",
       "                     2007     124\n",
       "                     2008     160\n",
       "                     2009       0\n",
       "                     2010      96\n",
       "Antigua and Barbuda  1985       0\n",
       "                     1986       0\n",
       "                     1987       0\n",
       "                     1988       0\n",
       "                     1989       0\n",
       "                     1990       1\n",
       "                     1991       0\n",
       "                     1992       0\n",
       "                             ... \n",
       "Uruguay              2007     576\n",
       "                     2008     523\n",
       "                     2009     511\n",
       "                     2010     547\n",
       "                     2012     599\n",
       "                     2013     546\n",
       "                     2014     591\n",
       "                     2015     630\n",
       "Uzbekistan           1990    1459\n",
       "                     1991    1393\n",
       "                     1992    1344\n",
       "                     1993    1355\n",
       "                     1994    1419\n",
       "                     1995    1485\n",
       "                     1996    1699\n",
       "                     1997    1554\n",
       "                     1998    1620\n",
       "                     1999    1795\n",
       "                     2000    1919\n",
       "                     2001    1914\n",
       "                     2002    1576\n",
       "                     2003    1416\n",
       "                     2004    1251\n",
       "                     2005    1221\n",
       "                     2009    1399\n",
       "                     2010    1464\n",
       "                     2011    1640\n",
       "                     2012    1835\n",
       "                     2013    1950\n",
       "                     2014    2095\n",
       "Name: suicides_no, Length: 2321, dtype: int64"
      ]
     },
     "execution_count": 99,
     "metadata": {},
     "output_type": "execute_result"
    }
   ],
   "source": [
    "## Basic Column Vs Column Check\n",
    "sui.groupby(['country','year'])['suicides_no'].sum() ## Total number of suicide for each year from each country"
   ]
  },
  {
   "cell_type": "code",
   "execution_count": 142,
   "metadata": {},
   "outputs": [
    {
     "data": {
      "text/plain": [
       "<matplotlib.axes._subplots.AxesSubplot at 0x2304db31b00>"
      ]
     },
     "execution_count": 142,
     "metadata": {},
     "output_type": "execute_result"
    },
    {
     "data": {
      "image/png": "[encoded data removed]",
      "text/plain": [
       "<Figure size 432x288 with 1 Axes>"
      ]
     },
     "metadata": {},
     "output_type": "display_data"
    }
   ],
   "source": [
    "sui.groupby(['year'])['suicides_no'].sum().reset_index().plot(kind=\"scatter\",x=\"year\",y=\"suicides_no\")\n",
    "\n",
    "\n",
    "##pair.plot(kind=\"scatter\",x=\"year\",y=\"sum\")"
   ]
  },
  {
   "cell_type": "code",
   "execution_count": 72,
   "metadata": {},
   "outputs": [
    {
     "name": "stdout",
     "output_type": "stream",
     "text": [
      "Saving figure Fields_level_histogram\n"
     ]
    },
    {
     "data": {
      "image/png": "[encoded data removed]",
      "text/plain": [
       "<Figure size 1440x1080 with 6 Axes>"
      ]
     },
     "metadata": {},
     "output_type": "display_data"
    }
   ],
   "source": [
    "## to plot pretty pics\n",
    "%matplotlib inline\n",
    "import matplotlib as mpl\n",
    "import matplotlib.pyplot as plt\n",
    "sui.hist(bins=50,figsize=(20,15))\n",
    "save_fig(\"Fields_level_histogram\")\n",
    "plt.show()"
   ]
  }
 ],
 "metadata": {
  "kernelspec": {
   "display_name": "Python 3",
   "language": "python",
   "name": "python3"
  },
  "language_info": {
   "codemirror_mode": {
    "name": "ipython",
    "version": 3
   },
   "file_extension": ".py",
   "mimetype": "text/x-python",
   "name": "python",
   "nbconvert_exporter": "python",
   "pygments_lexer": "ipython3",
   "version": "3.6.5"
  }
 },
 "nbformat": 4,
 "nbformat_minor": 2
}
